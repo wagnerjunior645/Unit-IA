{
 "cells": [
  {
   "cell_type": "markdown",
   "metadata": {
    "colab_type": "text",
    "id": "EewDSgrwLLL7"
   },
   "source": [
    "# Inteligência Artificial e Redes Neurais \n",
    "\n",
    "## Atividade\n"
   ]
  },
  {
   "cell_type": "code",
   "execution_count": 10,
   "metadata": {
    "colab": {
     "base_uri": "https://localhost:8080/",
     "height": 968
    },
    "colab_type": "code",
    "executionInfo": {
     "elapsed": 8578,
     "status": "ok",
     "timestamp": 1542936327506,
     "user": {
      "displayName": "Luiz Felipe Silva Santos",
      "photoUrl": "https://lh6.googleusercontent.com/-mzhkRCHx0dE/AAAAAAAAAAI/AAAAAAAAAAA/Of156L5RcyY/s64/photo.jpg",
      "userId": "13069309475249135575"
     },
     "user_tz": 180
    },
    "id": "sSkHDJ7oMnXe",
    "outputId": "8d0b9d4f-7eee-4d22-dc0f-6c790a02c759"
   },
   "outputs": [
    {
     "name": "stdout",
     "output_type": "stream",
     "text": [
      "--2018-11-23 01:25:20--  http://www.data2learning.com/ml_datasets/dataset1_1.pkl\n",
      "Resolving www.data2learning.com (www.data2learning.com)... 192.185.210.146\n",
      "Connecting to www.data2learning.com (www.data2learning.com)|192.185.210.146|:80... connected.\n",
      "HTTP request sent, awaiting response... 200 OK\n",
      "Length: 276947 (270K) [text/plain]\n",
      "Saving to: ‘dataset1_1.pkl’\n",
      "\n",
      "\r",
      "dataset1_1.pkl        0%[                    ]       0  --.-KB/s               \r",
      "dataset1_1.pkl       81%[===============>    ] 219.89K   961KB/s               \r",
      "dataset1_1.pkl      100%[===================>] 270.46K  1.15MB/s    in 0.2s    \n",
      "\n",
      "2018-11-23 01:25:20 (1.15 MB/s) - ‘dataset1_1.pkl’ saved [276947/276947]\n",
      "\n",
      "--2018-11-23 01:25:21--  http://www.data2learning.com/ml_datasets/dataset1_2.pkl\n",
      "Resolving www.data2learning.com (www.data2learning.com)... 192.185.210.146\n",
      "Connecting to www.data2learning.com (www.data2learning.com)|192.185.210.146|:80... connected.\n",
      "HTTP request sent, awaiting response... 200 OK\n",
      "Length: 435980 (426K) [text/plain]\n",
      "Saving to: ‘dataset1_2.pkl’\n",
      "\n",
      "dataset1_2.pkl      100%[===================>] 425.76K  1.87MB/s    in 0.2s    \n",
      "\n",
      "2018-11-23 01:25:22 (1.87 MB/s) - ‘dataset1_2.pkl’ saved [435980/435980]\n",
      "\n",
      "--2018-11-23 01:25:23--  http://www.data2learning.com/ml_datasets/dataset2.pkl\n",
      "Resolving www.data2learning.com (www.data2learning.com)... 192.185.210.146\n",
      "Connecting to www.data2learning.com (www.data2learning.com)|192.185.210.146|:80... connected.\n",
      "HTTP request sent, awaiting response... 200 OK\n",
      "Length: 2352 (2.3K) [text/plain]\n",
      "Saving to: ‘dataset2.pkl’\n",
      "\n",
      "dataset2.pkl        100%[===================>]   2.30K  --.-KB/s    in 0s      \n",
      "\n",
      "2018-11-23 01:25:23 (243 MB/s) - ‘dataset2.pkl’ saved [2352/2352]\n",
      "\n",
      "--2018-11-23 01:25:24--  http://www.data2learning.com/ml_datasets/dataset3.pkl\n",
      "Resolving www.data2learning.com (www.data2learning.com)... 192.185.210.146\n",
      "Connecting to www.data2learning.com (www.data2learning.com)|192.185.210.146|:80... connected.\n",
      "HTTP request sent, awaiting response... 200 OK\n",
      "Length: 386376 (377K) [text/plain]\n",
      "Saving to: ‘dataset3.pkl’\n",
      "\n",
      "dataset3.pkl        100%[===================>] 377.32K  1.64MB/s    in 0.2s    \n",
      "\n",
      "2018-11-23 01:25:24 (1.64 MB/s) - ‘dataset3.pkl’ saved [386376/386376]\n",
      "\n",
      "--2018-11-23 01:25:26--  http://www.data2learning.com/ml_datasets/sentimentdataset.pkl\n",
      "Resolving www.data2learning.com (www.data2learning.com)... 192.185.210.146\n",
      "Connecting to www.data2learning.com (www.data2learning.com)|192.185.210.146|:80... connected.\n",
      "HTTP request sent, awaiting response... 200 OK\n",
      "Length: 13581394 (13M) [text/plain]\n",
      "Saving to: ‘sentimentdataset.pkl’\n",
      "\n",
      "sentimentdataset.pk 100%[===================>]  12.95M  20.4MB/s    in 0.6s    \n",
      "\n",
      "2018-11-23 01:25:27 (20.4 MB/s) - ‘sentimentdataset.pkl’ saved [13581394/13581394]\n",
      "\n"
     ]
    }
   ],
   "source": [
    "# Carregar datasets\n",
    "!wget http://www.data2learning.com/ml_datasets/dataset1_1.pkl\n",
    "!wget http://www.data2learning.com/ml_datasets/dataset1_2.pkl\n",
    "!wget http://www.data2learning.com/ml_datasets/dataset2.pkl\n",
    "!wget http://www.data2learning.com/ml_datasets/dataset3.pkl\n",
    "!wget http://www.data2learning.com/ml_datasets/sentimentdataset.pkl"
   ]
  },
  {
   "cell_type": "code",
   "execution_count": 11,
   "metadata": {
    "colab": {
     "base_uri": "https://localhost:8080/",
     "height": 52
    },
    "colab_type": "code",
    "executionInfo": {
     "elapsed": 2286,
     "status": "ok",
     "timestamp": 1542936334340,
     "user": {
      "displayName": "Luiz Felipe Silva Santos",
      "photoUrl": "https://lh6.googleusercontent.com/-mzhkRCHx0dE/AAAAAAAAAAI/AAAAAAAAAAA/Of156L5RcyY/s64/photo.jpg",
      "userId": "13069309475249135575"
     },
     "user_tz": 180
    },
    "id": "C3Qu77W8OBES",
    "outputId": "b0ea5958-1a93-4b59-9f51-24967e1b05d8"
   },
   "outputs": [
    {
     "name": "stdout",
     "output_type": "stream",
     "text": [
      "dataset1_1.pkl\tdataset2.pkl  sample_data\n",
      "dataset1_2.pkl\tdataset3.pkl  sentimentdataset.pkl\n"
     ]
    }
   ],
   "source": [
    "!ls"
   ]
  },
  {
   "cell_type": "markdown",
   "metadata": {
    "colab_type": "text",
    "id": "PxsQlATsLLL9"
   },
   "source": [
    "# Tutorial\n",
    "\n",
    "A seguir está descrito todo o código necessário para executar os problemas práticos da atividade. \n",
    "\n",
    "## Instanciando os Modelos\n",
    "\n",
    "\n",
    "### KNN\n",
    "```python\n",
    "knnmodel = KNeighborsClassifier(n_neighbors=3)\n",
    "```\n",
    "\n",
    "O parâmetro **n_neightbors** corresponde ao valor de K vizinhos do algoritmo KNN. Ele pode ser variado.\n",
    "\n",
    "### Regressão Linear\n",
    "```python\n",
    "lm = LinearRegression()\n",
    "```\n",
    "\n",
    "### Árvore de Decisão\n",
    "```python\n",
    "tree_model = tree.DecisionTreeClassifier(criterion='entropy',random_state=0)\n",
    "```\n",
    "\n",
    "### SVM\n",
    "```python\n",
    "clfsvm = svm.SVC(kernel=kernel, C=C, random_state=0)\n",
    "```\n",
    "\n",
    "Pode variar o kernel ('linear', 'poly', 'rbf', 'sigmoid') e o valor de C. No kernel *rbf* pode variar o parâmetro *gamma* e no *poly* pode variar o parâmetro *degree*. \n",
    "\n",
    "### Naive Bayes \n",
    "\n",
    "\n",
    "naivemodel = GaussianNB()\n",
    "\n",
    "\n",
    "### Rede Neural Perceptron\n",
    "```python\n",
    "perceptron_ = perceptron.Perceptron(n_iter=100, eta0=0.001, random_state=0, verbose=False)\n",
    "```\n",
    "\n",
    "Pode variar o número de iterações (*n_iter*) e a taxa de aprendizagem (*eta0*).\n",
    "\n",
    "### Rede Neural MLP \n",
    "\n",
    "```python\n",
    "mlp_ = MLPClassifier(\n",
    "    hidden_layer_sizes=(256), \n",
    "    activation='relu', \n",
    "    batch_size=10, \n",
    "    verbose=False, \n",
    "    max_iter=120, \n",
    "    learning_rate_init=0.001,\n",
    "    random_state=0,\n",
    "    alpha=0.1\n",
    ")\n",
    "```\n",
    "Pode variar o tamanho e número de camadas (*hidden_layer_size*):\n",
    "\n",
    "* (256): 1 camada com 256 neurônios;\n",
    "* (256, 256): 2 camadas com 256 neurônios cada;\n",
    "* ... \n",
    "\n",
    "Pode variar a função de ativação (*activation*):\n",
    "\n",
    "* Valores possíveis: 'identity', 'logistic', 'tanh', 'relu'\n",
    "\n",
    "Pode variar o número de iterações (*max_iter*). \n",
    "\n",
    "Pode variar a taxa de aprendizagem (*learning_rate_init*)\n",
    "\n",
    "\n",
    "## Treinando os Modelos\n",
    "\n",
    "Um modelo pode ser treinado utilizando o método FIT. Isso serve para qualquer modelo do Scikit-Learn. \n",
    "\n",
    "```python\n",
    "modelo.fit(X, Y) #X = atributos, Y = a classe (ou labels)\n",
    "```\n",
    "\n",
    "## Predição\n",
    "\n",
    "```python\n",
    "modelo.predict(Z)\n",
    "```\n",
    "\n",
    "Z é uma instância de teste. Por exemplo, se sua base possui três atributos que correspondem as características daquelas instâncias, o método predict tem que receber três atributos também na hora de fazer a predição. Ou seja, Z seria algo do tipo [10, 2.4, 3.1], por exemplo.\n",
    "\n",
    "## Divisão Treino/Teste\n",
    "\n",
    "```python\n",
    "X_train, X_test, Y_train, Y_test = train_test_split(X, y, test_size=0.2, random_state=4)\n",
    "```\n",
    "\n",
    "onde *test_size* é a porcentagem de divisão. No exemplo, 20% da base é de teste e o restante é de treinamento. *X* são os dados (instâncias e atributos) e *y* a classe de cada instância. *random_state* é o controle do aleatório. Deve-se manter 4. \n",
    "\n",
    "\n",
    "## Avaliação\n",
    "\n",
    "O modelo pode ser avaliado usando o método *score*.\n",
    "\n",
    "```python\n",
    "modelo.score(X, y)\n",
    "```\n",
    "\n",
    "Para que este método funcione, o modelo deve ser treinado antes (usando o *fit*).\n",
    "\n",
    "\n",
    "## Validação Cruzada\n",
    "\n",
    "Uma outra forma de analisarmos o modelo construído é utilizando a validação cruzada. Para usá-la utilizamos: \n",
    "\n",
    "```python \n",
    "scores = cross_val_score(MODELO, X, Y, cv=10, scoring='accuracy')\n",
    "```\n",
    "\n",
    "* onde o MODELO é a instância do modelo que estamos criando (Arvore de Decisão, Regressão Linear, Rede Neural etc)\n",
    "* X e Y são os dados com os atributos (X) e somente a coluna de resultado (Y).\n",
    "* cv = quantidade de folds \n",
    "* scoring: métrica de avaliação. Utiilze **r2** se estiver trabalhando com Regressão Linear.\n",
    "\n",
    "Esse método já faz o processo de treinamento e teste ao mesmo tempo. Não é necessário utilizar o **Fit** quando chamamos ele. \n",
    "\n",
    "Para obter a média do score basta utilizar: \n",
    "\n",
    "```python\n",
    "scores.mean()\n",
    "```\n",
    "\n",
    "## Python\n",
    "\n",
    "Para fazer um for de um até N utilize a seguinte notação: \n",
    "\n",
    "```python\n",
    "for n in range(1, N+1):\n",
    "    print n\n",
    "```\n",
    "\n",
    "Se desejar imprimir algo no console, utilize o método **print**\n",
    "\n",
    "```python\n",
    "print(\"Teste\")\n",
    "print(X)\n",
    "```"
   ]
  },
  {
   "cell_type": "code",
   "execution_count": 6,
   "metadata": {
    "colab": {
     "base_uri": "https://localhost:8080/",
     "height": 4389
    },
    "colab_type": "code",
    "executionInfo": {
     "elapsed": 576779,
     "status": "ok",
     "timestamp": 1542933125290,
     "user": {
      "displayName": "Luiz Felipe Silva Santos",
      "photoUrl": "https://lh6.googleusercontent.com/-mzhkRCHx0dE/AAAAAAAAAAI/AAAAAAAAAAA/Of156L5RcyY/s64/photo.jpg",
      "userId": "13069309475249135575"
     },
     "user_tz": 180
    },
    "id": "K13f3L_ALLL-",
    "outputId": "45582d7a-d3e4-4c14-f7d6-f01a5fb37211"
   },
   "outputs": [
    {
     "name": "stdout",
     "output_type": "stream",
     "text": [
      "NLTK Downloader\n",
      "---------------------------------------------------------------------------\n",
      "    d) Download   l) List    u) Update   c) Config   h) Help   q) Quit\n",
      "---------------------------------------------------------------------------\n",
      "Downloader> c\n",
      "\n",
      "Data Server:\n",
      "  - URL: <https://raw.githubusercontent.com/nltk/nltk_data/gh-pages/index.xml>\n",
      "  - 7 Package Collections Available\n",
      "  - 107 Individual Packages Available\n",
      "\n",
      "Local Machine:\n",
      "  - Data directory: /root/nltk_data\n",
      "\n",
      "---------------------------------------------------------------------------\n",
      "    s) Show Config   u) Set Server URL   d) Set Data Dir   m) Main Menu\n",
      "---------------------------------------------------------------------------\n",
      "Config> s\n",
      "\n",
      "Data Server:\n",
      "  - URL: <https://raw.githubusercontent.com/nltk/nltk_data/gh-pages/index.xml>\n",
      "  - 7 Package Collections Available\n",
      "  - 107 Individual Packages Available\n",
      "\n",
      "Local Machine:\n",
      "  - Data directory: /root/nltk_data\n",
      "\n",
      "---------------------------------------------------------------------------\n",
      "    s) Show Config   u) Set Server URL   d) Set Data Dir   m) Main Menu\n",
      "---------------------------------------------------------------------------\n",
      "Config> m\n",
      "\n",
      "---------------------------------------------------------------------------\n",
      "    d) Download   l) List    u) Update   c) Config   h) Help   q) Quit\n",
      "---------------------------------------------------------------------------\n",
      "Downloader> d\n",
      "\n",
      "Download which package (l=list; x=cancel)?\n",
      "  Identifier> all\n",
      "    Downloading collection 'all'\n",
      "       | \n",
      "       | Downloading package abc to /root/nltk_data...\n",
      "       |   Unzipping corpora/abc.zip.\n",
      "       | Downloading package alpino to /root/nltk_data...\n",
      "       |   Unzipping corpora/alpino.zip.\n",
      "       | Downloading package biocreative_ppi to /root/nltk_data...\n",
      "       |   Unzipping corpora/biocreative_ppi.zip.\n",
      "       | Downloading package brown to /root/nltk_data...\n",
      "       |   Unzipping corpora/brown.zip.\n",
      "       | Downloading package brown_tei to /root/nltk_data...\n",
      "       |   Unzipping corpora/brown_tei.zip.\n",
      "       | Downloading package cess_cat to /root/nltk_data...\n",
      "       |   Unzipping corpora/cess_cat.zip.\n",
      "       | Downloading package cess_esp to /root/nltk_data...\n",
      "       |   Unzipping corpora/cess_esp.zip.\n",
      "       | Downloading package chat80 to /root/nltk_data...\n",
      "       |   Unzipping corpora/chat80.zip.\n",
      "       | Downloading package city_database to /root/nltk_data...\n",
      "       |   Unzipping corpora/city_database.zip.\n",
      "       | Downloading package cmudict to /root/nltk_data...\n",
      "       |   Unzipping corpora/cmudict.zip.\n",
      "       | Downloading package comparative_sentences to\n",
      "       |     /root/nltk_data...\n",
      "       |   Unzipping corpora/comparative_sentences.zip.\n",
      "       | Downloading package comtrans to /root/nltk_data...\n",
      "       | Downloading package conll2000 to /root/nltk_data...\n",
      "       |   Unzipping corpora/conll2000.zip.\n",
      "       | Downloading package conll2002 to /root/nltk_data...\n",
      "       |   Unzipping corpora/conll2002.zip.\n",
      "       | Downloading package conll2007 to /root/nltk_data...\n",
      "       | Downloading package crubadan to /root/nltk_data...\n",
      "       |   Unzipping corpora/crubadan.zip.\n",
      "       | Downloading package dependency_treebank to /root/nltk_data...\n",
      "       |   Unzipping corpora/dependency_treebank.zip.\n",
      "       | Downloading package dolch to /root/nltk_data...\n",
      "       |   Unzipping corpora/dolch.zip.\n",
      "       | Downloading package europarl_raw to /root/nltk_data...\n",
      "       |   Unzipping corpora/europarl_raw.zip.\n",
      "       | Downloading package floresta to /root/nltk_data...\n",
      "       |   Unzipping corpora/floresta.zip.\n",
      "       | Downloading package framenet_v15 to /root/nltk_data...\n",
      "       |   Unzipping corpora/framenet_v15.zip.\n",
      "       | Downloading package framenet_v17 to /root/nltk_data...\n",
      "       |   Unzipping corpora/framenet_v17.zip.\n",
      "       | Downloading package gazetteers to /root/nltk_data...\n",
      "       |   Unzipping corpora/gazetteers.zip.\n",
      "       | Downloading package genesis to /root/nltk_data...\n",
      "       |   Unzipping corpora/genesis.zip.\n",
      "       | Downloading package gutenberg to /root/nltk_data...\n",
      "       |   Unzipping corpora/gutenberg.zip.\n",
      "       | Downloading package ieer to /root/nltk_data...\n",
      "       |   Unzipping corpora/ieer.zip.\n",
      "       | Downloading package inaugural to /root/nltk_data...\n",
      "       |   Unzipping corpora/inaugural.zip.\n",
      "       | Downloading package indian to /root/nltk_data...\n",
      "       |   Unzipping corpora/indian.zip.\n",
      "       | Downloading package jeita to /root/nltk_data...\n",
      "       | Downloading package kimmo to /root/nltk_data...\n",
      "       |   Unzipping corpora/kimmo.zip.\n",
      "       | Downloading package knbc to /root/nltk_data...\n",
      "       | Downloading package lin_thesaurus to /root/nltk_data...\n",
      "       |   Unzipping corpora/lin_thesaurus.zip.\n",
      "       | Downloading package mac_morpho to /root/nltk_data...\n",
      "       |   Unzipping corpora/mac_morpho.zip.\n",
      "       | Downloading package machado to /root/nltk_data...\n",
      "       | Downloading package masc_tagged to /root/nltk_data...\n",
      "       | Downloading package moses_sample to /root/nltk_data...\n",
      "       |   Unzipping models/moses_sample.zip.\n",
      "       | Downloading package movie_reviews to /root/nltk_data...\n",
      "       |   Unzipping corpora/movie_reviews.zip.\n",
      "       | Downloading package names to /root/nltk_data...\n",
      "       |   Unzipping corpora/names.zip.\n",
      "       | Downloading package nombank.1.0 to /root/nltk_data...\n",
      "       | Downloading package nps_chat to /root/nltk_data...\n",
      "       |   Unzipping corpora/nps_chat.zip.\n",
      "       | Downloading package omw to /root/nltk_data...\n",
      "       |   Unzipping corpora/omw.zip.\n",
      "       | Downloading package opinion_lexicon to /root/nltk_data...\n",
      "       |   Unzipping corpora/opinion_lexicon.zip.\n",
      "       | Downloading package paradigms to /root/nltk_data...\n",
      "       |   Unzipping corpora/paradigms.zip.\n",
      "       | Downloading package pil to /root/nltk_data...\n",
      "       |   Unzipping corpora/pil.zip.\n",
      "       | Downloading package pl196x to /root/nltk_data...\n",
      "       |   Unzipping corpora/pl196x.zip.\n",
      "       | Downloading package ppattach to /root/nltk_data...\n",
      "       |   Unzipping corpora/ppattach.zip.\n",
      "       | Downloading package problem_reports to /root/nltk_data...\n",
      "       |   Unzipping corpora/problem_reports.zip.\n",
      "       | Downloading package propbank to /root/nltk_data...\n",
      "       | Downloading package ptb to /root/nltk_data...\n",
      "       |   Unzipping corpora/ptb.zip.\n",
      "       | Downloading package product_reviews_1 to /root/nltk_data...\n",
      "       |   Unzipping corpora/product_reviews_1.zip.\n",
      "       | Downloading package product_reviews_2 to /root/nltk_data...\n",
      "       |   Unzipping corpora/product_reviews_2.zip.\n",
      "       | Downloading package pros_cons to /root/nltk_data...\n",
      "       |   Unzipping corpora/pros_cons.zip.\n",
      "       | Downloading package qc to /root/nltk_data...\n",
      "       |   Unzipping corpora/qc.zip.\n",
      "       | Downloading package reuters to /root/nltk_data...\n",
      "       | Downloading package rte to /root/nltk_data...\n",
      "       |   Unzipping corpora/rte.zip.\n",
      "       | Downloading package semcor to /root/nltk_data...\n",
      "       | Downloading package senseval to /root/nltk_data...\n",
      "       |   Unzipping corpora/senseval.zip.\n",
      "       | Downloading package sentiwordnet to /root/nltk_data...\n",
      "       |   Unzipping corpora/sentiwordnet.zip.\n",
      "       | Downloading package sentence_polarity to /root/nltk_data...\n",
      "       |   Unzipping corpora/sentence_polarity.zip.\n",
      "       | Downloading package shakespeare to /root/nltk_data...\n",
      "       |   Unzipping corpora/shakespeare.zip.\n",
      "       | Downloading package sinica_treebank to /root/nltk_data...\n",
      "       |   Unzipping corpora/sinica_treebank.zip.\n",
      "       | Downloading package smultron to /root/nltk_data...\n",
      "       |   Unzipping corpora/smultron.zip.\n",
      "       | Downloading package state_union to /root/nltk_data...\n",
      "       |   Unzipping corpora/state_union.zip.\n",
      "       | Downloading package stopwords to /root/nltk_data...\n",
      "       |   Unzipping corpora/stopwords.zip.\n",
      "       | Downloading package subjectivity to /root/nltk_data...\n",
      "       |   Unzipping corpora/subjectivity.zip.\n",
      "       | Downloading package swadesh to /root/nltk_data...\n",
      "       |   Unzipping corpora/swadesh.zip.\n",
      "       | Downloading package switchboard to /root/nltk_data...\n",
      "       |   Unzipping corpora/switchboard.zip.\n",
      "       | Downloading package timit to /root/nltk_data...\n",
      "       |   Unzipping corpora/timit.zip.\n",
      "       | Downloading package toolbox to /root/nltk_data...\n",
      "       |   Unzipping corpora/toolbox.zip.\n",
      "       | Downloading package treebank to /root/nltk_data...\n",
      "       |   Unzipping corpora/treebank.zip.\n",
      "       | Downloading package twitter_samples to /root/nltk_data...\n",
      "       |   Unzipping corpora/twitter_samples.zip.\n",
      "       | Downloading package udhr to /root/nltk_data...\n",
      "       |   Unzipping corpora/udhr.zip.\n",
      "       | Downloading package udhr2 to /root/nltk_data...\n",
      "       |   Unzipping corpora/udhr2.zip.\n",
      "       | Downloading package unicode_samples to /root/nltk_data...\n",
      "       |   Unzipping corpora/unicode_samples.zip.\n",
      "       | Downloading package universal_treebanks_v20 to\n",
      "       |     /root/nltk_data...\n",
      "       | Downloading package verbnet to /root/nltk_data...\n",
      "       |   Unzipping corpora/verbnet.zip.\n",
      "       | Downloading package verbnet3 to /root/nltk_data...\n",
      "       |   Unzipping corpora/verbnet3.zip.\n",
      "       | Downloading package webtext to /root/nltk_data...\n",
      "       |   Unzipping corpora/webtext.zip.\n",
      "       | Downloading package wordnet to /root/nltk_data...\n",
      "       |   Unzipping corpora/wordnet.zip.\n",
      "       | Downloading package wordnet_ic to /root/nltk_data...\n",
      "       |   Unzipping corpora/wordnet_ic.zip.\n",
      "       | Downloading package words to /root/nltk_data...\n",
      "       |   Unzipping corpora/words.zip.\n",
      "       | Downloading package ycoe to /root/nltk_data...\n",
      "       |   Unzipping corpora/ycoe.zip.\n",
      "       | Downloading package rslp to /root/nltk_data...\n",
      "       |   Unzipping stemmers/rslp.zip.\n",
      "       | Downloading package maxent_treebank_pos_tagger to\n",
      "       |     /root/nltk_data...\n",
      "       |   Unzipping taggers/maxent_treebank_pos_tagger.zip.\n",
      "       | Downloading package universal_tagset to /root/nltk_data...\n",
      "       |   Unzipping taggers/universal_tagset.zip.\n",
      "       | Downloading package maxent_ne_chunker to /root/nltk_data...\n",
      "       |   Unzipping chunkers/maxent_ne_chunker.zip.\n",
      "       | Downloading package punkt to /root/nltk_data...\n",
      "       |   Unzipping tokenizers/punkt.zip.\n",
      "       | Downloading package book_grammars to /root/nltk_data...\n",
      "       |   Unzipping grammars/book_grammars.zip.\n",
      "       | Downloading package sample_grammars to /root/nltk_data...\n",
      "       |   Unzipping grammars/sample_grammars.zip.\n",
      "       | Downloading package spanish_grammars to /root/nltk_data...\n",
      "       |   Unzipping grammars/spanish_grammars.zip.\n",
      "       | Downloading package basque_grammars to /root/nltk_data...\n",
      "       |   Unzipping grammars/basque_grammars.zip.\n",
      "       | Downloading package large_grammars to /root/nltk_data...\n",
      "       |   Unzipping grammars/large_grammars.zip.\n",
      "       | Downloading package tagsets to /root/nltk_data...\n",
      "       |   Unzipping help/tagsets.zip.\n",
      "       | Downloading package snowball_data to /root/nltk_data...\n",
      "       | Downloading package bllip_wsj_no_aux to /root/nltk_data...\n",
      "       |   Unzipping models/bllip_wsj_no_aux.zip.\n",
      "       | Downloading package word2vec_sample to /root/nltk_data...\n",
      "       |   Unzipping models/word2vec_sample.zip.\n",
      "       | Downloading package panlex_swadesh to /root/nltk_data...\n",
      "       | Downloading package mte_teip5 to /root/nltk_data...\n",
      "       |   Unzipping corpora/mte_teip5.zip.\n",
      "       | Downloading package averaged_perceptron_tagger to\n",
      "       |     /root/nltk_data...\n",
      "       |   Unzipping taggers/averaged_perceptron_tagger.zip.\n",
      "       | Downloading package averaged_perceptron_tagger_ru to\n",
      "       |     /root/nltk_data...\n",
      "       |   Unzipping taggers/averaged_perceptron_tagger_ru.zip.\n",
      "       | Downloading package perluniprops to /root/nltk_data...\n",
      "       |   Unzipping misc/perluniprops.zip.\n",
      "       | Downloading package nonbreaking_prefixes to\n",
      "       |     /root/nltk_data...\n",
      "       |   Unzipping corpora/nonbreaking_prefixes.zip.\n",
      "       | Downloading package vader_lexicon to /root/nltk_data...\n",
      "       | Downloading package porter_test to /root/nltk_data...\n",
      "       |   Unzipping stemmers/porter_test.zip.\n",
      "       | Downloading package wmt15_eval to /root/nltk_data...\n",
      "       |   Unzipping models/wmt15_eval.zip.\n",
      "       | Downloading package mwa_ppdb to /root/nltk_data...\n",
      "       |   Unzipping misc/mwa_ppdb.zip.\n",
      "       | \n",
      "     Done downloading collection all\n",
      "\n",
      "---------------------------------------------------------------------------\n",
      "    d) Download   l) List    u) Update   c) Config   h) Help   q) Quit\n",
      "---------------------------------------------------------------------------\n",
      "Downloader> q\n"
     ]
    },
    {
     "data": {
      "text/plain": [
       "True"
      ]
     },
     "execution_count": 6,
     "metadata": {
      "tags": []
     },
     "output_type": "execute_result"
    }
   ],
   "source": [
    "# Instalação do NLKT\n",
    "\n",
    "import nltk\n",
    "nltk.download()"
   ]
  },
  {
   "cell_type": "code",
   "execution_count": 0,
   "metadata": {
    "colab": {},
    "colab_type": "code",
    "id": "FdxxE4YvLLMF"
   },
   "outputs": [],
   "source": [
    "# Imports Necessários\n",
    "\n",
    "#Bibliotecas\n",
    "import nltk\n",
    "import re\n",
    "import pandas as pd\n",
    "import numpy as np \n",
    "import unicodedata\n",
    "import matplotlib.pyplot as plt\n",
    "from sklearn.externals import joblib\n",
    "from nltk.tokenize import TweetTokenizer\n",
    "from nltk.corpus import stopwords\n",
    "\n",
    "# Modelos \n",
    "from sklearn.neighbors import KNeighborsClassifier # KNN\n",
    "from sklearn import tree # Arvore de Decisao\n",
    "from sklearn import svm # SVM\n",
    "from sklearn.naive_bayes import GaussianNB # Naive Bayes\n",
    "from sklearn.ensemble import RandomForestClassifier # Random Forest\n",
    "from sklearn.linear_model import perceptron\n",
    "from sklearn.neural_network import MLPClassifier\n",
    "from sklearn.linear_model import LinearRegression\n",
    "from sklearn.cluster import KMeans\n",
    "\n",
    "#Avaliação\n",
    "from sklearn.model_selection import cross_val_score\n",
    "from sklearn.model_selection import train_test_split\n",
    "\n",
    "#stopwords\n",
    "portuguese_stop = stopwords.words(['portuguese'])\n",
    "\n",
    "%matplotlib inline"
   ]
  },
  {
   "cell_type": "markdown",
   "metadata": {
    "colab_type": "text",
    "id": "IjPzGmRgLLMI"
   },
   "source": [
    "### Funções de Suporte 1\n",
    "\n",
    "As funções a seguir são de suporte para diversas tarefas que foram realizadas na realização da prova. Para a realização da prova não é preciso usá-las. No entanto, a célula deve ser executada para garantir a execução da prova sem erros."
   ]
  },
  {
   "cell_type": "code",
   "execution_count": 0,
   "metadata": {
    "colab": {},
    "colab_type": "code",
    "id": "gtFpz2ApLLMJ"
   },
   "outputs": [],
   "source": [
    "def strip_accents(text):\n",
    "\n",
    "    try:\n",
    "        text = unicode(text, 'utf-8')\n",
    "    except NameError: # unicode is a default on python 3 \n",
    "        pass\n",
    "    \n",
    "    text = unicodedata.normalize('NFD', text)\n",
    "    text = text.encode('ascii', 'ignore')\n",
    "    text = text.decode(\"utf-8\")\n",
    "    return str(text)\n",
    "\n",
    "def tokenize_only(text):\n",
    "    twtk = TweetTokenizer(preserve_case=False, reduce_len=True, strip_handles=True)\n",
    "    # first tokenize by sentence, then by word to ensure that punctuation is caught as it's own token\n",
    "    tokens = twtk.tokenize(text)\n",
    "    #[word.lower() for sent in nltk.sent_tokenize(text) for word in nltk.word_tokenize(sent)]\n",
    "    filtered_tokens = []\n",
    "    # filter out any tokens not containing letters (e.g., numeric tokens, raw punctuation)\n",
    "    for token in tokens:\n",
    "        token = re.sub(r\"http\\S+\", \"\", token)\n",
    "        token = re.sub(r\"[...]\",\"\", token)\n",
    "        token = strip_accents(token)\n",
    "        if token not in portuguese_stop and len(token) >= 2:\n",
    "            \n",
    "            filtered_tokens.append(token)\n",
    "            #if re.search('[a-zA-Z]', token):\n",
    "            #    filtered_tokens.append(token)\n",
    "    return filtered_tokens"
   ]
  },
  {
   "cell_type": "markdown",
   "metadata": {
    "colab_type": "text",
    "id": "UPtY6lakLLMM"
   },
   "source": [
    "## **Questão 01:** \n",
    "\n",
    "Foram estudados dois tipos de aprendizagem supervisionada: classificação e regressão. Sobre este assunto, responda o que se pede: "
   ]
  },
  {
   "cell_type": "markdown",
   "metadata": {
    "colab_type": "text",
    "id": "SPoVsyP8LLMO"
   },
   "source": [
    "**a)** Diferencie **classificação** e **regressão**. Deixe claro na explicação, o que de fato diferencia as duas técnicas principalemente em relação aos problemas em que elas são aplicadas. "
   ]
  },
  {
   "cell_type": "markdown",
   "metadata": {
    "colab_type": "text",
    "id": "g-g81xUyE30s"
   },
   "source": [
    "R= A classificação é uma das técnicas de aprendizado supervisionado e consiste em dado um conjunto de dados, você deve classificar cada instância deste conjunto em uma classe. A classificação utiliza como métrica a acurácia que corresponde a taxa de acerto do modelo. Problemas de Regressão é quando queremos predizer um valor real, por exemplo, tentar predizer uma idade ideal para abater o animal. A regressão usa como métrica R2 (R-squared ou coeficiente de determinação). O R² varia entre 0 e 1, indicando, em percentagem, o quanto o modelo consegue explicar os valores observados.\n",
    "Enquanto a classificação é vista como um aprendizado de valores discretos a regressão lida com conjunto infinito e ordenado de valores, ou seja, variáveis contínuas.\n"
   ]
  },
  {
   "cell_type": "markdown",
   "metadata": {
    "colab_type": "text",
    "id": "3wuhQ4CcLLMO"
   },
   "source": [
    "**b)** A seguir são apresentadas duas bases. Sua tarefa é analisar as informações da duas e aplicar o algoritmo correto para cada uma delas entre os algoritmos de **regressão linear** e **knn**. Na aplicação do algoritmo utilize a validação cruzada com 5 folds. Na aplicação da regressão linear reporte o valor da métrica **r2** e no caso do knn reporte a acurácia."
   ]
  },
  {
   "cell_type": "markdown",
   "metadata": {
    "colab_type": "text",
    "id": "Vt9dWXorLLMQ"
   },
   "source": [
    "### Base 1\n",
    "\n",
    "A base 1 é referenciada pelo trabalho \"Predicting social media performance metrics and evaluation of the impact on brand building: A data mining approach\"(Moro, 2016) e tem como objetivo prever a evolução de um post no facebook a partir de um conjunto de métricas coletadas dos posts. Na base, as *features* correspondem as métricas e o *label* (a coluna que deseja-se prever) corresponde a quantidade de iteração (comentários + curtidas +  compartilhamentos) de um post. "
   ]
  },
  {
   "cell_type": "code",
   "execution_count": 12,
   "metadata": {
    "colab": {
     "base_uri": "https://localhost:8080/",
     "height": 374
    },
    "colab_type": "code",
    "executionInfo": {
     "elapsed": 737,
     "status": "ok",
     "timestamp": 1542936359232,
     "user": {
      "displayName": "Luiz Felipe Silva Santos",
      "photoUrl": "https://lh6.googleusercontent.com/-mzhkRCHx0dE/AAAAAAAAAAI/AAAAAAAAAAA/Of156L5RcyY/s64/photo.jpg",
      "userId": "13069309475249135575"
     },
     "user_tz": 180
    },
    "id": "SAPT_a61LLMQ",
    "outputId": "b5f72405-7e8d-417e-8320-5fe961e64bf2"
   },
   "outputs": [
    {
     "data": {
      "text/html": [
       "<div>\n",
       "<style scoped>\n",
       "    .dataframe tbody tr th:only-of-type {\n",
       "        vertical-align: middle;\n",
       "    }\n",
       "\n",
       "    .dataframe tbody tr th {\n",
       "        vertical-align: top;\n",
       "    }\n",
       "\n",
       "    .dataframe thead th {\n",
       "        text-align: right;\n",
       "    }\n",
       "</style>\n",
       "<table border=\"1\" class=\"dataframe\">\n",
       "  <thead>\n",
       "    <tr style=\"text-align: right;\">\n",
       "      <th></th>\n",
       "      <th>Page total likes</th>\n",
       "      <th>Type</th>\n",
       "      <th>Category</th>\n",
       "      <th>Post Month</th>\n",
       "      <th>Post Weekday</th>\n",
       "      <th>Post Hour</th>\n",
       "      <th>Paid</th>\n",
       "      <th>Lifetime Post Total Reach</th>\n",
       "      <th>Lifetime Post Total Impressions</th>\n",
       "      <th>Lifetime Engaged Users</th>\n",
       "      <th>Lifetime Post Consumers</th>\n",
       "      <th>Lifetime Post Consumptions</th>\n",
       "      <th>Lifetime Post Impressions by people who have liked your Page</th>\n",
       "      <th>Lifetime Post reach by people who like your Page</th>\n",
       "      <th>Lifetime People who have liked your Page and engaged with your post</th>\n",
       "      <th>comment</th>\n",
       "      <th>like</th>\n",
       "      <th>share</th>\n",
       "      <th>Total Interactions</th>\n",
       "    </tr>\n",
       "  </thead>\n",
       "  <tbody>\n",
       "    <tr>\n",
       "      <th>0</th>\n",
       "      <td>139441</td>\n",
       "      <td>Photo</td>\n",
       "      <td>2</td>\n",
       "      <td>12</td>\n",
       "      <td>4</td>\n",
       "      <td>3</td>\n",
       "      <td>0.0</td>\n",
       "      <td>2752</td>\n",
       "      <td>5091</td>\n",
       "      <td>178</td>\n",
       "      <td>109</td>\n",
       "      <td>159</td>\n",
       "      <td>3078</td>\n",
       "      <td>1640</td>\n",
       "      <td>119</td>\n",
       "      <td>4</td>\n",
       "      <td>79.0</td>\n",
       "      <td>17.0</td>\n",
       "      <td>100</td>\n",
       "    </tr>\n",
       "    <tr>\n",
       "      <th>1</th>\n",
       "      <td>139441</td>\n",
       "      <td>Status</td>\n",
       "      <td>2</td>\n",
       "      <td>12</td>\n",
       "      <td>3</td>\n",
       "      <td>10</td>\n",
       "      <td>0.0</td>\n",
       "      <td>10460</td>\n",
       "      <td>19057</td>\n",
       "      <td>1457</td>\n",
       "      <td>1361</td>\n",
       "      <td>1674</td>\n",
       "      <td>11710</td>\n",
       "      <td>6112</td>\n",
       "      <td>1108</td>\n",
       "      <td>5</td>\n",
       "      <td>130.0</td>\n",
       "      <td>29.0</td>\n",
       "      <td>164</td>\n",
       "    </tr>\n",
       "    <tr>\n",
       "      <th>2</th>\n",
       "      <td>139441</td>\n",
       "      <td>Photo</td>\n",
       "      <td>3</td>\n",
       "      <td>12</td>\n",
       "      <td>3</td>\n",
       "      <td>3</td>\n",
       "      <td>0.0</td>\n",
       "      <td>2413</td>\n",
       "      <td>4373</td>\n",
       "      <td>177</td>\n",
       "      <td>113</td>\n",
       "      <td>154</td>\n",
       "      <td>2812</td>\n",
       "      <td>1503</td>\n",
       "      <td>132</td>\n",
       "      <td>0</td>\n",
       "      <td>66.0</td>\n",
       "      <td>14.0</td>\n",
       "      <td>80</td>\n",
       "    </tr>\n",
       "    <tr>\n",
       "      <th>3</th>\n",
       "      <td>139441</td>\n",
       "      <td>Photo</td>\n",
       "      <td>2</td>\n",
       "      <td>12</td>\n",
       "      <td>2</td>\n",
       "      <td>10</td>\n",
       "      <td>1.0</td>\n",
       "      <td>50128</td>\n",
       "      <td>87991</td>\n",
       "      <td>2211</td>\n",
       "      <td>790</td>\n",
       "      <td>1119</td>\n",
       "      <td>61027</td>\n",
       "      <td>32048</td>\n",
       "      <td>1386</td>\n",
       "      <td>58</td>\n",
       "      <td>1572.0</td>\n",
       "      <td>147.0</td>\n",
       "      <td>1777</td>\n",
       "    </tr>\n",
       "    <tr>\n",
       "      <th>4</th>\n",
       "      <td>139441</td>\n",
       "      <td>Photo</td>\n",
       "      <td>2</td>\n",
       "      <td>12</td>\n",
       "      <td>2</td>\n",
       "      <td>3</td>\n",
       "      <td>0.0</td>\n",
       "      <td>7244</td>\n",
       "      <td>13594</td>\n",
       "      <td>671</td>\n",
       "      <td>410</td>\n",
       "      <td>580</td>\n",
       "      <td>6228</td>\n",
       "      <td>3200</td>\n",
       "      <td>396</td>\n",
       "      <td>19</td>\n",
       "      <td>325.0</td>\n",
       "      <td>49.0</td>\n",
       "      <td>393</td>\n",
       "    </tr>\n",
       "  </tbody>\n",
       "</table>\n",
       "</div>"
      ],
      "text/plain": [
       "   Page total likes    Type  Category  Post Month  Post Weekday  Post Hour  \\\n",
       "0            139441   Photo         2          12             4          3   \n",
       "1            139441  Status         2          12             3         10   \n",
       "2            139441   Photo         3          12             3          3   \n",
       "3            139441   Photo         2          12             2         10   \n",
       "4            139441   Photo         2          12             2          3   \n",
       "\n",
       "   Paid  Lifetime Post Total Reach  Lifetime Post Total Impressions  \\\n",
       "0   0.0                       2752                             5091   \n",
       "1   0.0                      10460                            19057   \n",
       "2   0.0                       2413                             4373   \n",
       "3   1.0                      50128                            87991   \n",
       "4   0.0                       7244                            13594   \n",
       "\n",
       "   Lifetime Engaged Users  Lifetime Post Consumers  \\\n",
       "0                     178                      109   \n",
       "1                    1457                     1361   \n",
       "2                     177                      113   \n",
       "3                    2211                      790   \n",
       "4                     671                      410   \n",
       "\n",
       "   Lifetime Post Consumptions  \\\n",
       "0                         159   \n",
       "1                        1674   \n",
       "2                         154   \n",
       "3                        1119   \n",
       "4                         580   \n",
       "\n",
       "   Lifetime Post Impressions by people who have liked your Page  \\\n",
       "0                                               3078              \n",
       "1                                              11710              \n",
       "2                                               2812              \n",
       "3                                              61027              \n",
       "4                                               6228              \n",
       "\n",
       "   Lifetime Post reach by people who like your Page  \\\n",
       "0                                              1640   \n",
       "1                                              6112   \n",
       "2                                              1503   \n",
       "3                                             32048   \n",
       "4                                              3200   \n",
       "\n",
       "   Lifetime People who have liked your Page and engaged with your post  \\\n",
       "0                                                119                     \n",
       "1                                               1108                     \n",
       "2                                                132                     \n",
       "3                                               1386                     \n",
       "4                                                396                     \n",
       "\n",
       "   comment    like  share  Total Interactions  \n",
       "0        4    79.0   17.0                 100  \n",
       "1        5   130.0   29.0                 164  \n",
       "2        0    66.0   14.0                  80  \n",
       "3       58  1572.0  147.0                1777  \n",
       "4       19   325.0   49.0                 393  "
      ]
     },
     "execution_count": 12,
     "metadata": {
      "tags": []
     },
     "output_type": "execute_result"
    }
   ],
   "source": [
    "dataset1_1 = joblib.load(\"dataset1_1.pkl\")\n",
    "dataset1_1['full'].head()"
   ]
  },
  {
   "cell_type": "markdown",
   "metadata": {
    "colab_type": "text",
    "id": "Jc4ob6oTLLMU"
   },
   "source": [
    "### Base 2\n",
    "\n",
    "A base 2 é referenciada pelo trabalho \"Phishing Detection based Associative Classification Data Mining\" (Abdelhamid et al., 2014) e tem como objetivo identificar se um website sofreu um ataque de *pishing*. De forma geral, *Phishing* é um tipo de ataque que faz com que sites criados sejam substituídos por sites falsos, fazendo com que usuários passem informações sigilosas como CPF, logins, e-mails, senhas para criminosos. Nesta base, cada instância é um website que é classificado como Legitimate (1: site legítimo), Suspicious (0: suspeito) ou phishy (-1: sofreu pishing)."
   ]
  },
  {
   "cell_type": "code",
   "execution_count": 13,
   "metadata": {
    "colab": {
     "base_uri": "https://localhost:8080/",
     "height": 198
    },
    "colab_type": "code",
    "executionInfo": {
     "elapsed": 774,
     "status": "ok",
     "timestamp": 1542936471163,
     "user": {
      "displayName": "Luiz Felipe Silva Santos",
      "photoUrl": "https://lh6.googleusercontent.com/-mzhkRCHx0dE/AAAAAAAAAAI/AAAAAAAAAAA/Of156L5RcyY/s64/photo.jpg",
      "userId": "13069309475249135575"
     },
     "user_tz": 180
    },
    "id": "Yts1pWQ8LLMW",
    "outputId": "e7321b80-e909-4e04-b03b-a304dbdb206b"
   },
   "outputs": [
    {
     "data": {
      "text/html": [
       "<div>\n",
       "<style scoped>\n",
       "    .dataframe tbody tr th:only-of-type {\n",
       "        vertical-align: middle;\n",
       "    }\n",
       "\n",
       "    .dataframe tbody tr th {\n",
       "        vertical-align: top;\n",
       "    }\n",
       "\n",
       "    .dataframe thead th {\n",
       "        text-align: right;\n",
       "    }\n",
       "</style>\n",
       "<table border=\"1\" class=\"dataframe\">\n",
       "  <thead>\n",
       "    <tr style=\"text-align: right;\">\n",
       "      <th></th>\n",
       "      <th>SFH</th>\n",
       "      <th>popUpWidnow</th>\n",
       "      <th>SSLfinal_State</th>\n",
       "      <th>Request_URL</th>\n",
       "      <th>URL_of_Anchor</th>\n",
       "      <th>web_traffic</th>\n",
       "      <th>URL_Length</th>\n",
       "      <th>age_of_domain</th>\n",
       "      <th>having_IP_Address</th>\n",
       "      <th>Result</th>\n",
       "    </tr>\n",
       "  </thead>\n",
       "  <tbody>\n",
       "    <tr>\n",
       "      <th>0</th>\n",
       "      <td>1</td>\n",
       "      <td>-1</td>\n",
       "      <td>1</td>\n",
       "      <td>-1</td>\n",
       "      <td>-1</td>\n",
       "      <td>1</td>\n",
       "      <td>1</td>\n",
       "      <td>1</td>\n",
       "      <td>0</td>\n",
       "      <td>0</td>\n",
       "    </tr>\n",
       "    <tr>\n",
       "      <th>1</th>\n",
       "      <td>-1</td>\n",
       "      <td>-1</td>\n",
       "      <td>-1</td>\n",
       "      <td>-1</td>\n",
       "      <td>-1</td>\n",
       "      <td>0</td>\n",
       "      <td>1</td>\n",
       "      <td>1</td>\n",
       "      <td>1</td>\n",
       "      <td>1</td>\n",
       "    </tr>\n",
       "    <tr>\n",
       "      <th>2</th>\n",
       "      <td>1</td>\n",
       "      <td>-1</td>\n",
       "      <td>0</td>\n",
       "      <td>0</td>\n",
       "      <td>-1</td>\n",
       "      <td>0</td>\n",
       "      <td>-1</td>\n",
       "      <td>1</td>\n",
       "      <td>0</td>\n",
       "      <td>1</td>\n",
       "    </tr>\n",
       "    <tr>\n",
       "      <th>3</th>\n",
       "      <td>1</td>\n",
       "      <td>0</td>\n",
       "      <td>1</td>\n",
       "      <td>-1</td>\n",
       "      <td>-1</td>\n",
       "      <td>0</td>\n",
       "      <td>1</td>\n",
       "      <td>1</td>\n",
       "      <td>0</td>\n",
       "      <td>0</td>\n",
       "    </tr>\n",
       "    <tr>\n",
       "      <th>4</th>\n",
       "      <td>-1</td>\n",
       "      <td>-1</td>\n",
       "      <td>1</td>\n",
       "      <td>-1</td>\n",
       "      <td>0</td>\n",
       "      <td>0</td>\n",
       "      <td>-1</td>\n",
       "      <td>1</td>\n",
       "      <td>0</td>\n",
       "      <td>1</td>\n",
       "    </tr>\n",
       "  </tbody>\n",
       "</table>\n",
       "</div>"
      ],
      "text/plain": [
       "   SFH  popUpWidnow  SSLfinal_State  Request_URL  URL_of_Anchor  web_traffic  \\\n",
       "0    1           -1               1           -1             -1            1   \n",
       "1   -1           -1              -1           -1             -1            0   \n",
       "2    1           -1               0            0             -1            0   \n",
       "3    1            0               1           -1             -1            0   \n",
       "4   -1           -1               1           -1              0            0   \n",
       "\n",
       "   URL_Length  age_of_domain  having_IP_Address  Result  \n",
       "0           1              1                  0       0  \n",
       "1           1              1                  1       1  \n",
       "2          -1              1                  0       1  \n",
       "3           1              1                  0       0  \n",
       "4          -1              1                  0       1  "
      ]
     },
     "execution_count": 13,
     "metadata": {
      "tags": []
     },
     "output_type": "execute_result"
    }
   ],
   "source": [
    "dataset1_2 = joblib.load(\"dataset1_2.pkl\")\n",
    "dataset1_2['full'].head()"
   ]
  },
  {
   "cell_type": "code",
   "execution_count": 0,
   "metadata": {
    "colab": {},
    "colab_type": "code",
    "id": "bHO0wt19LLMa"
   },
   "outputs": [],
   "source": [
    "# Imports das Bases\n",
    "\n",
    "# Base 1\n",
    "\n",
    "X_base1 = dataset1_1['X']\n",
    "Y_base1 = dataset1_1['y']\n",
    "\n",
    "# Base 2\n",
    "\n",
    "X_base2 = dataset1_2['X']\n",
    "Y_base2 = dataset1_2['y']"
   ]
  },
  {
   "cell_type": "code",
   "execution_count": 15,
   "metadata": {
    "colab": {
     "base_uri": "https://localhost:8080/",
     "height": 52
    },
    "colab_type": "code",
    "executionInfo": {
     "elapsed": 773,
     "status": "ok",
     "timestamp": 1542936535033,
     "user": {
      "displayName": "Luiz Felipe Silva Santos",
      "photoUrl": "https://lh6.googleusercontent.com/-mzhkRCHx0dE/AAAAAAAAAAI/AAAAAAAAAAA/Of156L5RcyY/s64/photo.jpg",
      "userId": "13069309475249135575"
     },
     "user_tz": 180
    },
    "id": "aRdxgh37LLMc",
    "outputId": "485ec4d7-1eb0-4ca1-a583-70a3b8678f09"
   },
   "outputs": [
    {
     "name": "stdout",
     "output_type": "stream",
     "text": [
      "(500, 18) (500,)\n",
      "(1353, 9) (1353,)\n"
     ]
    }
   ],
   "source": [
    "print(X_base1.shape, Y_base1.shape)\n",
    "print(X_base2.shape, Y_base2.shape)"
   ]
  },
  {
   "cell_type": "code",
   "execution_count": 16,
   "metadata": {
    "colab": {
     "base_uri": "https://localhost:8080/",
     "height": 34
    },
    "colab_type": "code",
    "executionInfo": {
     "elapsed": 788,
     "status": "ok",
     "timestamp": 1542937129213,
     "user": {
      "displayName": "Luiz Felipe Silva Santos",
      "photoUrl": "https://lh6.googleusercontent.com/-mzhkRCHx0dE/AAAAAAAAAAI/AAAAAAAAAAA/Of156L5RcyY/s64/photo.jpg",
      "userId": "13069309475249135575"
     },
     "user_tz": 180
    },
    "id": "VV1b-RxqLLMg",
    "outputId": "31057507-1222-4dab-c5aa-6c791ff8f40e"
   },
   "outputs": [
    {
     "name": "stdout",
     "output_type": "stream",
     "text": [
      "R2 Model: 0.703244\n"
     ]
    }
   ],
   "source": [
    "# Insira a resposta da questão 1 a partir daqui\n",
    "# Base 1 - Regressão Linear\n",
    "\n",
    "#Instanciando o modelo\n",
    "lm = LinearRegression()\n",
    "\n",
    "#Validação cruzada de 5 folds. \n",
    "score = cross_val_score(lm, X_base1, Y_base1, cv=5, scoring='r2')\n",
    "\n",
    "# Resultados obtidos com a métrica R^2\n",
    "print(\"R2 Model: %0.6f\" % (score.mean()))"
   ]
  },
  {
   "cell_type": "code",
   "execution_count": 17,
   "metadata": {
    "colab": {
     "base_uri": "https://localhost:8080/",
     "height": 86
    },
    "colab_type": "code",
    "executionInfo": {
     "elapsed": 837,
     "status": "ok",
     "timestamp": 1542937433680,
     "user": {
      "displayName": "Luiz Felipe Silva Santos",
      "photoUrl": "https://lh6.googleusercontent.com/-mzhkRCHx0dE/AAAAAAAAAAI/AAAAAAAAAAA/Of156L5RcyY/s64/photo.jpg",
      "userId": "13069309475249135575"
     },
     "user_tz": 180
    },
    "id": "RB-3IbJcOLZg",
    "outputId": "17cf1d15-e717-47bc-b66f-364938eb4d30"
   },
   "outputs": [
    {
     "name": "stdout",
     "output_type": "stream",
     "text": [
      "Tamanho de X na base de Treino:  (811, 9)\n",
      "Tamanho de X na base de Teste:  (542, 9)\n",
      "Tamanho de Y na base de Treino:  (811,)\n",
      "Tamanho de Y na base de Teste:  (542,)\n"
     ]
    }
   ],
   "source": [
    "# Insira a resposta da questão 1 a partir daqui\n",
    "# Base 2 - KNN\n",
    "# Criando um teste que consiste em 40% dos dados originais\n",
    "X_train, X_test, Y_train, Y_test = train_test_split(X_base2, Y_base2, test_size=0.4, random_state=4)\n",
    "\n",
    "\n",
    "#Imprimindo o tamanho das bases\n",
    "print(\"Tamanho de X na base de Treino: \", X_train.shape)\n",
    "print(\"Tamanho de X na base de Teste: \", X_test.shape)\n",
    "\n",
    "print(\"Tamanho de Y na base de Treino: \", Y_train.shape)\n",
    "print(\"Tamanho de Y na base de Teste: \", Y_test.shape)"
   ]
  },
  {
   "cell_type": "code",
   "execution_count": 18,
   "metadata": {
    "colab": {
     "base_uri": "https://localhost:8080/",
     "height": 69
    },
    "colab_type": "code",
    "executionInfo": {
     "elapsed": 771,
     "status": "ok",
     "timestamp": 1542937480076,
     "user": {
      "displayName": "Luiz Felipe Silva Santos",
      "photoUrl": "https://lh6.googleusercontent.com/-mzhkRCHx0dE/AAAAAAAAAAI/AAAAAAAAAAA/Of156L5RcyY/s64/photo.jpg",
      "userId": "13069309475249135575"
     },
     "user_tz": 180
    },
    "id": "WnoH0209PWsJ",
    "outputId": "652a8744-8cb3-49b3-9176-44d6430b3038"
   },
   "outputs": [
    {
     "data": {
      "text/plain": [
       "KNeighborsClassifier(algorithm='auto', leaf_size=30, metric='minkowski',\n",
       "           metric_params=None, n_jobs=1, n_neighbors=10, p=2,\n",
       "           weights='uniform')"
      ]
     },
     "execution_count": 18,
     "metadata": {
      "tags": []
     },
     "output_type": "execute_result"
    }
   ],
   "source": [
    "#Instanciando e treinando os modelos\n",
    "\n",
    "knn_3 = KNeighborsClassifier(n_neighbors=3)\n",
    "knn_3.fit(X_train, Y_train)\n",
    "\n",
    "knn_10 = KNeighborsClassifier(n_neighbors=10)\n",
    "knn_10.fit(X_train, Y_train)"
   ]
  },
  {
   "cell_type": "code",
   "execution_count": 19,
   "metadata": {
    "colab": {
     "base_uri": "https://localhost:8080/",
     "height": 52
    },
    "colab_type": "code",
    "executionInfo": {
     "elapsed": 752,
     "status": "ok",
     "timestamp": 1542937641890,
     "user": {
      "displayName": "Luiz Felipe Silva Santos",
      "photoUrl": "https://lh6.googleusercontent.com/-mzhkRCHx0dE/AAAAAAAAAAI/AAAAAAAAAAA/Of156L5RcyY/s64/photo.jpg",
      "userId": "13069309475249135575"
     },
     "user_tz": 180
    },
    "id": "lRaUppzsPsNj",
    "outputId": "13a5de88-1a81-44b5-ddd2-1ffe108c1fc9"
   },
   "outputs": [
    {
     "name": "stdout",
     "output_type": "stream",
     "text": [
      "Média da Acurácia KNN (K=3):  0.884\n",
      "Média da Acurácia KNN (K=10):  0.861\n"
     ]
    }
   ],
   "source": [
    "# Aplica a validação cruzada (5 folds) no modelo KNN (k=3) criado anteriomente\n",
    "scores_3 = cross_val_score(knn_3, X_base2, Y_base2, cv=5, scoring='accuracy')\n",
    "\n",
    "# Aplica a validação cruzada (5 folds) no modelo KNN (k=10) criado anteriormente\n",
    "scores_10 = cross_val_score(knn_10, X_base2, Y_base2, cv=5, scoring='accuracy')\n",
    "\n",
    "print(\"Média da Acurácia KNN (K=3): \", \"%0.3f\" % scores_3.mean())\n",
    "print(\"Média da Acurácia KNN (K=10): \", \"%0.3f\" %  scores_10.mean())"
   ]
  },
  {
   "cell_type": "markdown",
   "metadata": {
    "colab_type": "text",
    "id": "WpKjn-1HLLMj"
   },
   "source": [
    "## **Questão 02**: \n",
    "\n",
    "Uma árvore de decisão permite classificar um conjunto de dados a partir da divisão do espaço de busca de acordo com os valores dos atributos. Para cada nó da árvore, um atributo deve ser escolhido de forma que melhor separe o conjunto de dados. \n",
    "\n",
    "Sabendo que o **Ganho de Informação** é dado por: \n",
    "\n",
    "$GI(S,A) = E(S) - \\sum_{v \\in Valores(A)}{\\frac{S_v}{S}E(S_v)}$, \n",
    "\n",
    "e a **Entropia** é dada por: \n",
    "\n",
    "$E = \\sum_{i}^{c}{-p_i\\log_2{p_i}}$\n",
    "\n",
    "Você deve mostrar a partir do cálculo do Ganho de Informação e da Entropia qual o melhor atributo para ser utilizado como raiz da árvore.\n",
    "\n",
    "**OBS: é obrigatório apresentar os cálculos realizados.**"
   ]
  },
  {
   "cell_type": "code",
   "execution_count": 20,
   "metadata": {
    "colab": {
     "base_uri": "https://localhost:8080/",
     "height": 559
    },
    "colab_type": "code",
    "executionInfo": {
     "elapsed": 750,
     "status": "ok",
     "timestamp": 1542937844815,
     "user": {
      "displayName": "Luiz Felipe Silva Santos",
      "photoUrl": "https://lh6.googleusercontent.com/-mzhkRCHx0dE/AAAAAAAAAAI/AAAAAAAAAAA/Of156L5RcyY/s64/photo.jpg",
      "userId": "13069309475249135575"
     },
     "user_tz": 180
    },
    "id": "_4pTT9mvLLMk",
    "outputId": "9df030c4-644a-4836-b967-dca85178aca8"
   },
   "outputs": [
    {
     "data": {
      "text/html": [
       "<div>\n",
       "<style scoped>\n",
       "    .dataframe tbody tr th:only-of-type {\n",
       "        vertical-align: middle;\n",
       "    }\n",
       "\n",
       "    .dataframe tbody tr th {\n",
       "        vertical-align: top;\n",
       "    }\n",
       "\n",
       "    .dataframe thead th {\n",
       "        text-align: right;\n",
       "    }\n",
       "</style>\n",
       "<table border=\"1\" class=\"dataframe\">\n",
       "  <thead>\n",
       "    <tr style=\"text-align: right;\">\n",
       "      <th></th>\n",
       "      <th>A</th>\n",
       "      <th>B</th>\n",
       "      <th>C</th>\n",
       "      <th>Class</th>\n",
       "    </tr>\n",
       "    <tr>\n",
       "      <th>INDEX</th>\n",
       "      <th></th>\n",
       "      <th></th>\n",
       "      <th></th>\n",
       "      <th></th>\n",
       "    </tr>\n",
       "  </thead>\n",
       "  <tbody>\n",
       "    <tr>\n",
       "      <th>1</th>\n",
       "      <td>TIPO4</td>\n",
       "      <td>TIPO3</td>\n",
       "      <td>TIPO0</td>\n",
       "      <td>positive</td>\n",
       "    </tr>\n",
       "    <tr>\n",
       "      <th>2</th>\n",
       "      <td>TIPO5</td>\n",
       "      <td>TIPO3</td>\n",
       "      <td>TIPO1</td>\n",
       "      <td>positive</td>\n",
       "    </tr>\n",
       "    <tr>\n",
       "      <th>3</th>\n",
       "      <td>TIPO5</td>\n",
       "      <td>TIPO3</td>\n",
       "      <td>TIPO0</td>\n",
       "      <td>positive</td>\n",
       "    </tr>\n",
       "    <tr>\n",
       "      <th>4</th>\n",
       "      <td>TIPO5</td>\n",
       "      <td>TIPO3</td>\n",
       "      <td>TIPO0</td>\n",
       "      <td>positive</td>\n",
       "    </tr>\n",
       "    <tr>\n",
       "      <th>5</th>\n",
       "      <td>TIPO5</td>\n",
       "      <td>TIPO3</td>\n",
       "      <td>TIPO0</td>\n",
       "      <td>positive</td>\n",
       "    </tr>\n",
       "    <tr>\n",
       "      <th>6</th>\n",
       "      <td>TIPO4</td>\n",
       "      <td>TIPO3</td>\n",
       "      <td>TIPO0</td>\n",
       "      <td>positive</td>\n",
       "    </tr>\n",
       "    <tr>\n",
       "      <th>7</th>\n",
       "      <td>TIPO4</td>\n",
       "      <td>TIPO3</td>\n",
       "      <td>TIPO0</td>\n",
       "      <td>positive</td>\n",
       "    </tr>\n",
       "    <tr>\n",
       "      <th>8</th>\n",
       "      <td>TIPO5</td>\n",
       "      <td>TIPO3</td>\n",
       "      <td>TIPO0</td>\n",
       "      <td>positive</td>\n",
       "    </tr>\n",
       "    <tr>\n",
       "      <th>9</th>\n",
       "      <td>TIPO7</td>\n",
       "      <td>TIPO3</td>\n",
       "      <td>TIPO1</td>\n",
       "      <td>negative</td>\n",
       "    </tr>\n",
       "    <tr>\n",
       "      <th>10</th>\n",
       "      <td>TIPO6</td>\n",
       "      <td>TIPO3</td>\n",
       "      <td>TIPO1</td>\n",
       "      <td>negative</td>\n",
       "    </tr>\n",
       "    <tr>\n",
       "      <th>11</th>\n",
       "      <td>TIPO6</td>\n",
       "      <td>TIPO3</td>\n",
       "      <td>TIPO1</td>\n",
       "      <td>negative</td>\n",
       "    </tr>\n",
       "    <tr>\n",
       "      <th>12</th>\n",
       "      <td>TIPO5</td>\n",
       "      <td>TIPO2</td>\n",
       "      <td>TIPO1</td>\n",
       "      <td>negative</td>\n",
       "    </tr>\n",
       "    <tr>\n",
       "      <th>13</th>\n",
       "      <td>TIPO6</td>\n",
       "      <td>TIPO2</td>\n",
       "      <td>TIPO1</td>\n",
       "      <td>negative</td>\n",
       "    </tr>\n",
       "    <tr>\n",
       "      <th>14</th>\n",
       "      <td>TIPO5</td>\n",
       "      <td>TIPO2</td>\n",
       "      <td>TIPO1</td>\n",
       "      <td>negative</td>\n",
       "    </tr>\n",
       "    <tr>\n",
       "      <th>15</th>\n",
       "      <td>TIPO6</td>\n",
       "      <td>TIPO3</td>\n",
       "      <td>TIPO1</td>\n",
       "      <td>negative</td>\n",
       "    </tr>\n",
       "    <tr>\n",
       "      <th>16</th>\n",
       "      <td>TIPO4</td>\n",
       "      <td>TIPO2</td>\n",
       "      <td>TIPO1</td>\n",
       "      <td>negative</td>\n",
       "    </tr>\n",
       "  </tbody>\n",
       "</table>\n",
       "</div>"
      ],
      "text/plain": [
       "           A      B      C     Class\n",
       "INDEX                               \n",
       "1      TIPO4  TIPO3  TIPO0  positive\n",
       "2      TIPO5  TIPO3  TIPO1  positive\n",
       "3      TIPO5  TIPO3  TIPO0  positive\n",
       "4      TIPO5  TIPO3  TIPO0  positive\n",
       "5      TIPO5  TIPO3  TIPO0  positive\n",
       "6      TIPO4  TIPO3  TIPO0  positive\n",
       "7      TIPO4  TIPO3  TIPO0  positive\n",
       "8      TIPO5  TIPO3  TIPO0  positive\n",
       "9      TIPO7  TIPO3  TIPO1  negative\n",
       "10     TIPO6  TIPO3  TIPO1  negative\n",
       "11     TIPO6  TIPO3  TIPO1  negative\n",
       "12     TIPO5  TIPO2  TIPO1  negative\n",
       "13     TIPO6  TIPO2  TIPO1  negative\n",
       "14     TIPO5  TIPO2  TIPO1  negative\n",
       "15     TIPO6  TIPO3  TIPO1  negative\n",
       "16     TIPO4  TIPO2  TIPO1  negative"
      ]
     },
     "execution_count": 20,
     "metadata": {
      "tags": []
     },
     "output_type": "execute_result"
    }
   ],
   "source": [
    "dataset2 = joblib.load(\"dataset2.pkl\")\n",
    "dataset2"
   ]
  },
  {
   "cell_type": "markdown",
   "metadata": {
    "colab_type": "text",
    "id": "kTQm7DW7LLMp"
   },
   "source": [
    " Consideramos 8 instâncias positivas e 8 negativas ([8+, 8-]):\n",
    "\n",
    "$E(S) = -\\frac{8}{16}\\log_2{\\frac{8}{16}} - \\frac{8}{16}\\log_2{\\frac{8}\n",
    "{16}} = 0.999... \\approx 1$\n",
    "\n",
    "\n",
    "O atributo** A** possui quatro valores: TIPO4, TIPO5, TIPO6 e TIPO7 \n",
    "\n",
    "\n",
    "$S_{TIPO4} \\leftarrow [3+, 1-]$\n",
    "\n",
    "$S_{TIPO5} \\leftarrow [5+, 2-]$\n",
    "\n",
    "$S_{TIPO6} \\leftarrow [0+, 4-]$\n",
    "\n",
    "$S_{TIPO7} \\leftarrow [0+, 1-]$\n",
    "\n",
    "\n",
    "$E(S_{TIPO4}) = -\\frac{1}{4}\\log_2{\\frac{1}{4}} - \\frac{3}{4}\\log_2{\\frac{3}{4}} = 0.811$\n",
    "\n",
    "$E(S_{TIPO5}) = -\\frac{2}{7}\\log_2{\\frac{2}{7}} - \\frac{5}{7}\\log_2{\\frac{5}{7}} = 0.863$\n",
    "\n",
    "$E(S_{TIPO6}) =  - \\frac{4}{4}\\log_2{\\frac{4}{4}} = 0$\n",
    "\n",
    "$E(S_{TIPO7}) =  - \\frac{1}{1}\\log_2{\\frac{1}{1}} =0 $\n",
    "\n",
    "Com isso podemos calcular: \n",
    "\n",
    "$- \\sum_{v \\in Valores(A)}{\\frac{S_v}{S}E(S_v)}$\n",
    "\n",
    "$- \\frac{4}{16}*0.811 - \\frac{7}{16}*0.863 - \\frac{4}{16}*0 - \\frac{1}{16}*0 = -0.580$\n",
    "\n",
    "Por fim, temos que  o Ganho de Informação é: \n",
    "\n",
    "$GI(S,A) = E(S) - \\sum_{v \\in Valores(A)}{\\frac{S_v}{S}E(S_v)} = 1 - 0.580 = 0.420$\n",
    "\n",
    "O atributo** B** possui dois valores: TIPO2 e TIPO3 \n",
    "\n",
    "\n",
    "$S_{TIPO2} \\leftarrow [0+, 4-]$\n",
    "\n",
    "$S_{TIPO3} \\leftarrow [8+, 4-]$\n",
    "\n",
    "\n",
    "\n",
    "$E(S_{TIPO3}) = -\\frac{4}{12}\\log_2{\\frac{4}{12}} - \\frac{8}{12}\\log_2{\\frac{8}{12}} = 0.918$\n",
    "\n",
    "\n",
    "$E(S_{TIPO2}) =  - \\frac{4}{4}\\log_2{\\frac{4}{4}} =0 $\n",
    "\n",
    "Com isso podemos calcular: \n",
    "\n",
    "$- \\sum_{v \\in Valores(B)}{\\frac{S_v}{S}E(S_v)}$\n",
    "\n",
    "$- \\frac{12}{16}*0.918 - \\frac{4}{16}*0= -0.688$\n",
    "\n",
    "Por fim, temos que  o Ganho de Informação é: \n",
    "\n",
    "$GI(S,B) = E(S) - \\sum_{v \\in Valores(B)}{\\frac{S_v}{S}E(S_v)} = 1 - 0.688 = 0.312$\n",
    "\n",
    "O atributo** C** possui dois valores: TIPO0 e TIPO1 \n",
    "\n",
    "\n",
    "$S_{TIPO0} \\leftarrow [7+, 0-]$\n",
    "\n",
    "$S_{TIPO1} \\leftarrow [1+, 8-]$\n",
    "\n",
    "\n",
    "\n",
    "$E(S_{TIPO1}) = -\\frac{8}{9}\\log_2{\\frac{8}{9}} - \\frac{1}{9}\\log_2{\\frac{1}{9}} = 0.503$\n",
    "\n",
    "\n",
    "$E(S_{TIPO0}) =  - \\frac{7}{7}\\log_2{\\frac{7}{7}} =0 $\n",
    "\n",
    "Com isso podemos calcular: \n",
    "\n",
    "$- \\sum_{v \\in Valores(C)}{\\frac{S_v}{S}E(S_v)}$\n",
    "\n",
    "$- \\frac{9}{16}*0.503 - \\frac{7}{16}*0= -0.282$\n",
    "\n",
    "Por fim, temos que  o Ganho de Informação é: \n",
    "\n",
    "$GI(S,C) = E(S) - \\sum_{v \\in Valores(C)}{\\frac{S_v}{S}E(S_v)} = 1 - 0.282 = 0.718$\n",
    "\n",
    "Dessa forma, já temos a análise dos 4 atributos: \n",
    "\n",
    "$GI(S, A) = 0.420$\n",
    "\n",
    "$GI(S, B) = 0.312$\n",
    "\n",
    "$GI(S, C) = 0.718$\n",
    "\n",
    "\n",
    "Dos 3 atributos, o que nos proporciona um maior ganho de informação é o atributo **C** que será utilizado na raiz da árvore."
   ]
  },
  {
   "cell_type": "markdown",
   "metadata": {
    "colab_type": "text",
    "id": "-KIiBccSLLMt"
   },
   "source": [
    "## **Questão 03:** \n",
    "\n",
    "Os algoritmos de SVM e Naive Bayes são dois clássicos algoritmos supervisionados. Ambos se valem de conceitos interessantes da matemática para construir os modelos de aprendizagem. Sobre estes algoritmos, responda:\n",
    "\n",
    "**a)** Explique, brevemente, os conceitos por trás destes dois algoritmos. Deixe claro na sua explicação quais conceitos matemáticos estudados em sala de aula são utilizados na construção de cada um dos modelos.\n",
    "\n",
    "**b)** Aplique os dois algoritmos na base a seguir. Analise os resultados obtidos nas configurações padrões do algoritmo e depois modifique os parâmetros do melhor algoritmo para se obter um resultado melhor do que o anterior. Os testes devem ser realizados utilizando validação cruzada de 5 folds. A análise deve ser feita a partir destes valores. "
   ]
  },
  {
   "cell_type": "markdown",
   "metadata": {
    "colab_type": "text",
    "id": "euODtpcOkCVD"
   },
   "source": [
    "R= a) O SVM é mais um método de classificação. Neste caso, mais especificamente, para problemas que possuem duas classes. Ele pode ser aplicado para problemas com mais de 2 classes, mas, neste caso, o algoritmo possui um alto custo computacional.O objetivo do SVM é encontrar um hyperplano que seja capaz de separar os dados de cada uma das classes. Na verdade, ele encontra, dentre todos os possíveis hyperplanos de separação, aquele que melhor separa as classes. \n",
    "\n",
    "O Naive Bayes é um algoritmo probabilístico simples baseado no teorema de Bayes. Este utiliza dados de treino para formar um modelo probabilístico baseado na evidência das features nos dados. O algoritmo supõe que há uma independência entre as features do modelo. Isso significa que a presença de uma determinada feature não tem nenhuma relação com as outras.\n",
    "\n",
    "\n"
   ]
  },
  {
   "cell_type": "code",
   "execution_count": 0,
   "metadata": {
    "colab": {},
    "colab_type": "code",
    "id": "Wxx3ZmlnLLMt"
   },
   "outputs": [],
   "source": [
    "dataset3 = joblib.load(\"dataset3.pkl\")\n",
    "X = dataset3['X']\n",
    "Y = dataset3['Y']"
   ]
  },
  {
   "cell_type": "code",
   "execution_count": 22,
   "metadata": {
    "colab": {
     "base_uri": "https://localhost:8080/",
     "height": 198
    },
    "colab_type": "code",
    "executionInfo": {
     "elapsed": 804,
     "status": "ok",
     "timestamp": 1542943388627,
     "user": {
      "displayName": "Luiz Felipe Silva Santos",
      "photoUrl": "https://lh6.googleusercontent.com/-mzhkRCHx0dE/AAAAAAAAAAI/AAAAAAAAAAA/Of156L5RcyY/s64/photo.jpg",
      "userId": "13069309475249135575"
     },
     "user_tz": 180
    },
    "id": "tELkFfNPLLMy",
    "outputId": "6fd8ed8a-2f58-4d8f-8d9c-fe93122c6f4d"
   },
   "outputs": [
    {
     "data": {
      "text/html": [
       "<div>\n",
       "<style scoped>\n",
       "    .dataframe tbody tr th:only-of-type {\n",
       "        vertical-align: middle;\n",
       "    }\n",
       "\n",
       "    .dataframe tbody tr th {\n",
       "        vertical-align: top;\n",
       "    }\n",
       "\n",
       "    .dataframe thead th {\n",
       "        text-align: right;\n",
       "    }\n",
       "</style>\n",
       "<table border=\"1\" class=\"dataframe\">\n",
       "  <thead>\n",
       "    <tr style=\"text-align: right;\">\n",
       "      <th></th>\n",
       "      <th>0</th>\n",
       "      <th>1</th>\n",
       "      <th>2</th>\n",
       "      <th>3</th>\n",
       "      <th>4</th>\n",
       "      <th>5</th>\n",
       "      <th>6</th>\n",
       "      <th>7</th>\n",
       "      <th>8</th>\n",
       "      <th>9</th>\n",
       "      <th>10</th>\n",
       "      <th>11</th>\n",
       "      <th>12</th>\n",
       "      <th>13</th>\n",
       "    </tr>\n",
       "  </thead>\n",
       "  <tbody>\n",
       "    <tr>\n",
       "      <th>0</th>\n",
       "      <td>0.50</td>\n",
       "      <td>0.416667</td>\n",
       "      <td>0.000000</td>\n",
       "      <td>0.00</td>\n",
       "      <td>0.4</td>\n",
       "      <td>0.076923</td>\n",
       "      <td>0.333333</td>\n",
       "      <td>0.250000</td>\n",
       "      <td>0.00</td>\n",
       "      <td>0.2</td>\n",
       "      <td>0.125</td>\n",
       "      <td>0.000000</td>\n",
       "      <td>0.963855</td>\n",
       "      <td>0.697479</td>\n",
       "    </tr>\n",
       "    <tr>\n",
       "      <th>1</th>\n",
       "      <td>0.50</td>\n",
       "      <td>0.000000</td>\n",
       "      <td>0.157895</td>\n",
       "      <td>0.40</td>\n",
       "      <td>0.0</td>\n",
       "      <td>0.000000</td>\n",
       "      <td>0.416667</td>\n",
       "      <td>0.166667</td>\n",
       "      <td>0.25</td>\n",
       "      <td>0.2</td>\n",
       "      <td>0.000</td>\n",
       "      <td>0.000000</td>\n",
       "      <td>0.975904</td>\n",
       "      <td>0.865546</td>\n",
       "    </tr>\n",
       "    <tr>\n",
       "      <th>2</th>\n",
       "      <td>0.75</td>\n",
       "      <td>0.000000</td>\n",
       "      <td>0.052632</td>\n",
       "      <td>0.10</td>\n",
       "      <td>0.0</td>\n",
       "      <td>0.000000</td>\n",
       "      <td>0.416667</td>\n",
       "      <td>0.166667</td>\n",
       "      <td>0.00</td>\n",
       "      <td>0.2</td>\n",
       "      <td>0.000</td>\n",
       "      <td>0.038462</td>\n",
       "      <td>0.963855</td>\n",
       "      <td>0.697479</td>\n",
       "    </tr>\n",
       "    <tr>\n",
       "      <th>3</th>\n",
       "      <td>1.00</td>\n",
       "      <td>0.000000</td>\n",
       "      <td>0.052632</td>\n",
       "      <td>0.15</td>\n",
       "      <td>0.1</td>\n",
       "      <td>0.038462</td>\n",
       "      <td>0.000000</td>\n",
       "      <td>0.416667</td>\n",
       "      <td>0.00</td>\n",
       "      <td>0.0</td>\n",
       "      <td>0.000</td>\n",
       "      <td>0.000000</td>\n",
       "      <td>0.963855</td>\n",
       "      <td>0.697479</td>\n",
       "    </tr>\n",
       "    <tr>\n",
       "      <th>4</th>\n",
       "      <td>0.25</td>\n",
       "      <td>0.000000</td>\n",
       "      <td>0.105263</td>\n",
       "      <td>0.15</td>\n",
       "      <td>0.1</td>\n",
       "      <td>0.000000</td>\n",
       "      <td>0.291667</td>\n",
       "      <td>0.166667</td>\n",
       "      <td>0.00</td>\n",
       "      <td>0.2</td>\n",
       "      <td>0.125</td>\n",
       "      <td>0.000000</td>\n",
       "      <td>0.963855</td>\n",
       "      <td>0.697479</td>\n",
       "    </tr>\n",
       "  </tbody>\n",
       "</table>\n",
       "</div>"
      ],
      "text/plain": [
       "     0         1         2     3    4         5         6         7     8   \\\n",
       "0  0.50  0.416667  0.000000  0.00  0.4  0.076923  0.333333  0.250000  0.00   \n",
       "1  0.50  0.000000  0.157895  0.40  0.0  0.000000  0.416667  0.166667  0.25   \n",
       "2  0.75  0.000000  0.052632  0.10  0.0  0.000000  0.416667  0.166667  0.00   \n",
       "3  1.00  0.000000  0.052632  0.15  0.1  0.038462  0.000000  0.416667  0.00   \n",
       "4  0.25  0.000000  0.105263  0.15  0.1  0.000000  0.291667  0.166667  0.00   \n",
       "\n",
       "    9      10        11        12        13  \n",
       "0  0.2  0.125  0.000000  0.963855  0.697479  \n",
       "1  0.2  0.000  0.000000  0.975904  0.865546  \n",
       "2  0.2  0.000  0.038462  0.963855  0.697479  \n",
       "3  0.0  0.000  0.000000  0.963855  0.697479  \n",
       "4  0.2  0.125  0.000000  0.963855  0.697479  "
      ]
     },
     "execution_count": 22,
     "metadata": {
      "tags": []
     },
     "output_type": "execute_result"
    }
   ],
   "source": [
    "X.head()"
   ]
  },
  {
   "cell_type": "code",
   "execution_count": 25,
   "metadata": {
    "colab": {
     "base_uri": "https://localhost:8080/",
     "height": 86
    },
    "colab_type": "code",
    "executionInfo": {
     "elapsed": 605,
     "status": "ok",
     "timestamp": 1542943637320,
     "user": {
      "displayName": "Luiz Felipe Silva Santos",
      "photoUrl": "https://lh6.googleusercontent.com/-mzhkRCHx0dE/AAAAAAAAAAI/AAAAAAAAAAA/Of156L5RcyY/s64/photo.jpg",
      "userId": "13069309475249135575"
     },
     "user_tz": 180
    },
    "id": "mK8o8p28LLM1",
    "outputId": "fe40f975-e39d-4c88-c4e0-bc92a47d261f"
   },
   "outputs": [
    {
     "data": {
      "text/plain": [
       "SVC(C=1.0, cache_size=200, class_weight=None, coef0=0.0,\n",
       "  decision_function_shape='ovr', degree=3, gamma='auto', kernel='linear',\n",
       "  max_iter=-1, probability=False, random_state=None, shrinking=True,\n",
       "  tol=0.001, verbose=False)"
      ]
     },
     "execution_count": 25,
     "metadata": {
      "tags": []
     },
     "output_type": "execute_result"
    }
   ],
   "source": [
    "# Responda a questão 3 a partir daqui\n",
    "# Treinar modelo SVM /fit the model\n",
    "clf = svm.SVC(kernel='linear')\n",
    "clf.fit(X, Y)"
   ]
  },
  {
   "cell_type": "code",
   "execution_count": 40,
   "metadata": {
    "colab": {
     "base_uri": "https://localhost:8080/",
     "height": 847
    },
    "colab_type": "code",
    "executionInfo": {
     "elapsed": 924,
     "status": "error",
     "timestamp": 1542945075028,
     "user": {
      "displayName": "Luiz Felipe Silva Santos",
      "photoUrl": "https://lh6.googleusercontent.com/-mzhkRCHx0dE/AAAAAAAAAAI/AAAAAAAAAAA/Of156L5RcyY/s64/photo.jpg",
      "userId": "13069309475249135575"
     },
     "user_tz": 180
    },
    "id": "2sOF1Txfm_uL",
    "outputId": "baa43ec6-9fa0-442e-848a-60f4a969f4f3"
   },
   "outputs": [
    {
     "ename": "TypeError",
     "evalue": "ignored",
     "output_type": "error",
     "traceback": [
      "\u001b[0;31m---------------------------------------------------------------------------\u001b[0m",
      "\u001b[0;31mTypeError\u001b[0m                                 Traceback (most recent call last)",
      "\u001b[0;32m<ipython-input-40-0f38cdae80dd>\u001b[0m in \u001b[0;36m<module>\u001b[0;34m()\u001b[0m\n\u001b[1;32m     18\u001b[0m plt.scatter(clf.support_vectors_[:, 0], clf.support_vectors_[:, 1],\n\u001b[1;32m     19\u001b[0m             s=80, facecolors='none')\n\u001b[0;32m---> 20\u001b[0;31m \u001b[0mplt\u001b[0m\u001b[0;34m.\u001b[0m\u001b[0mscatter\u001b[0m\u001b[0;34m(\u001b[0m\u001b[0mX\u001b[0m\u001b[0;34m[\u001b[0m\u001b[0;34m:\u001b[0m\u001b[0;34m,\u001b[0m \u001b[0;36m0\u001b[0m\u001b[0;34m]\u001b[0m\u001b[0;34m,\u001b[0m \u001b[0mX\u001b[0m\u001b[0;34m[\u001b[0m\u001b[0;34m:\u001b[0m\u001b[0;34m,\u001b[0m \u001b[0;36m1\u001b[0m\u001b[0;34m]\u001b[0m\u001b[0;34m,\u001b[0m \u001b[0mc\u001b[0m\u001b[0;34m=\u001b[0m\u001b[0mY\u001b[0m\u001b[0;34m,\u001b[0m \u001b[0mcmap\u001b[0m\u001b[0;34m=\u001b[0m\u001b[0mplt\u001b[0m\u001b[0;34m.\u001b[0m\u001b[0mcm\u001b[0m\u001b[0;34m.\u001b[0m\u001b[0mPaired\u001b[0m\u001b[0;34m)\u001b[0m\u001b[0;34m\u001b[0m\u001b[0;34m\u001b[0m\u001b[0m\n\u001b[0m\u001b[1;32m     21\u001b[0m \u001b[0;34m\u001b[0m\u001b[0m\n\u001b[1;32m     22\u001b[0m \u001b[0mplt\u001b[0m\u001b[0;34m.\u001b[0m\u001b[0maxis\u001b[0m\u001b[0;34m(\u001b[0m\u001b[0;34m'tight'\u001b[0m\u001b[0;34m)\u001b[0m\u001b[0;34m\u001b[0m\u001b[0;34m\u001b[0m\u001b[0m\n",
      "\u001b[0;32m/usr/local/lib/python3.6/dist-packages/pandas/core/frame.py\u001b[0m in \u001b[0;36m__getitem__\u001b[0;34m(self, key)\u001b[0m\n\u001b[1;32m   2137\u001b[0m             \u001b[0;32mreturn\u001b[0m \u001b[0mself\u001b[0m\u001b[0;34m.\u001b[0m\u001b[0m_getitem_multilevel\u001b[0m\u001b[0;34m(\u001b[0m\u001b[0mkey\u001b[0m\u001b[0;34m)\u001b[0m\u001b[0;34m\u001b[0m\u001b[0;34m\u001b[0m\u001b[0m\n\u001b[1;32m   2138\u001b[0m         \u001b[0;32melse\u001b[0m\u001b[0;34m:\u001b[0m\u001b[0;34m\u001b[0m\u001b[0;34m\u001b[0m\u001b[0m\n\u001b[0;32m-> 2139\u001b[0;31m             \u001b[0;32mreturn\u001b[0m \u001b[0mself\u001b[0m\u001b[0;34m.\u001b[0m\u001b[0m_getitem_column\u001b[0m\u001b[0;34m(\u001b[0m\u001b[0mkey\u001b[0m\u001b[0;34m)\u001b[0m\u001b[0;34m\u001b[0m\u001b[0;34m\u001b[0m\u001b[0m\n\u001b[0m\u001b[1;32m   2140\u001b[0m \u001b[0;34m\u001b[0m\u001b[0m\n\u001b[1;32m   2141\u001b[0m     \u001b[0;32mdef\u001b[0m \u001b[0m_getitem_column\u001b[0m\u001b[0;34m(\u001b[0m\u001b[0mself\u001b[0m\u001b[0;34m,\u001b[0m \u001b[0mkey\u001b[0m\u001b[0;34m)\u001b[0m\u001b[0;34m:\u001b[0m\u001b[0;34m\u001b[0m\u001b[0;34m\u001b[0m\u001b[0m\n",
      "\u001b[0;32m/usr/local/lib/python3.6/dist-packages/pandas/core/frame.py\u001b[0m in \u001b[0;36m_getitem_column\u001b[0;34m(self, key)\u001b[0m\n\u001b[1;32m   2144\u001b[0m         \u001b[0;31m# get column\u001b[0m\u001b[0;34m\u001b[0m\u001b[0;34m\u001b[0m\u001b[0;34m\u001b[0m\u001b[0m\n\u001b[1;32m   2145\u001b[0m         \u001b[0;32mif\u001b[0m \u001b[0mself\u001b[0m\u001b[0;34m.\u001b[0m\u001b[0mcolumns\u001b[0m\u001b[0;34m.\u001b[0m\u001b[0mis_unique\u001b[0m\u001b[0;34m:\u001b[0m\u001b[0;34m\u001b[0m\u001b[0;34m\u001b[0m\u001b[0m\n\u001b[0;32m-> 2146\u001b[0;31m             \u001b[0;32mreturn\u001b[0m \u001b[0mself\u001b[0m\u001b[0;34m.\u001b[0m\u001b[0m_get_item_cache\u001b[0m\u001b[0;34m(\u001b[0m\u001b[0mkey\u001b[0m\u001b[0;34m)\u001b[0m\u001b[0;34m\u001b[0m\u001b[0;34m\u001b[0m\u001b[0m\n\u001b[0m\u001b[1;32m   2147\u001b[0m \u001b[0;34m\u001b[0m\u001b[0m\n\u001b[1;32m   2148\u001b[0m         \u001b[0;31m# duplicate columns & possible reduce dimensionality\u001b[0m\u001b[0;34m\u001b[0m\u001b[0;34m\u001b[0m\u001b[0;34m\u001b[0m\u001b[0m\n",
      "\u001b[0;32m/usr/local/lib/python3.6/dist-packages/pandas/core/generic.py\u001b[0m in \u001b[0;36m_get_item_cache\u001b[0;34m(self, item)\u001b[0m\n\u001b[1;32m   1838\u001b[0m         \u001b[0;34m\"\"\"Return the cached item, item represents a label indexer.\"\"\"\u001b[0m\u001b[0;34m\u001b[0m\u001b[0;34m\u001b[0m\u001b[0m\n\u001b[1;32m   1839\u001b[0m         \u001b[0mcache\u001b[0m \u001b[0;34m=\u001b[0m \u001b[0mself\u001b[0m\u001b[0;34m.\u001b[0m\u001b[0m_item_cache\u001b[0m\u001b[0;34m\u001b[0m\u001b[0;34m\u001b[0m\u001b[0m\n\u001b[0;32m-> 1840\u001b[0;31m         \u001b[0mres\u001b[0m \u001b[0;34m=\u001b[0m \u001b[0mcache\u001b[0m\u001b[0;34m.\u001b[0m\u001b[0mget\u001b[0m\u001b[0;34m(\u001b[0m\u001b[0mitem\u001b[0m\u001b[0;34m)\u001b[0m\u001b[0;34m\u001b[0m\u001b[0;34m\u001b[0m\u001b[0m\n\u001b[0m\u001b[1;32m   1841\u001b[0m         \u001b[0;32mif\u001b[0m \u001b[0mres\u001b[0m \u001b[0;32mis\u001b[0m \u001b[0;32mNone\u001b[0m\u001b[0;34m:\u001b[0m\u001b[0;34m\u001b[0m\u001b[0;34m\u001b[0m\u001b[0m\n\u001b[1;32m   1842\u001b[0m             \u001b[0mvalues\u001b[0m \u001b[0;34m=\u001b[0m \u001b[0mself\u001b[0m\u001b[0;34m.\u001b[0m\u001b[0m_data\u001b[0m\u001b[0;34m.\u001b[0m\u001b[0mget\u001b[0m\u001b[0;34m(\u001b[0m\u001b[0mitem\u001b[0m\u001b[0;34m)\u001b[0m\u001b[0;34m\u001b[0m\u001b[0;34m\u001b[0m\u001b[0m\n",
      "\u001b[0;31mTypeError\u001b[0m: unhashable type: 'slice'"
     ]
    },
    {
     "data": {
      "image/png": "[encoded data removed]",
      "text/plain": [
       "<matplotlib.figure.Figure at 0x7f72fe5636d8>"
      ]
     },
     "metadata": {
      "tags": []
     },
     "output_type": "display_data"
    }
   ],
   "source": [
    "# Plota o hyperplano\n",
    "\n",
    "# get the separating hyperplane\n",
    "w = clf.coef_[0]\n",
    "a = -w[0] / w[1]\n",
    "xx = np.linspace(-5, 5)\n",
    "yy = a * xx - (clf.intercept_[0]) / w[1]\n",
    "\n",
    "# plot the parallels to the separating hyperplane that pass through the\n",
    "# support vectors\n",
    "b = clf.support_vectors_[0]\n",
    "yy_down = a * xx + (b[1] - a * b[0])\n",
    "b = clf.support_vectors_[-1]\n",
    "yy_up = a * xx + (b[1] - a * b[0])\n",
    "\n",
    "# plot the line, the points, and the nearest vectors to the plane\n",
    "plt.plot(xx, yy, 'k-')\n",
    "plt.plot(xx, yy_down, 'k--')\n",
    "plt.plot(xx, yy_up, 'k--')\n",
    "\n",
    "plt.scatter(clf.support_vectors_[:, 0], clf.support_vectors_[:, 1],\n",
    "            s=80, facecolors='none')\n",
    "plt.scatter(X[:, 0], X[:, 1], c=Y, cmap=plt.cm.Paired)\n",
    "\n",
    "plt.axis('tight')\n",
    "plt.show()"
   ]
  },
  {
   "cell_type": "markdown",
   "metadata": {
    "colab_type": "text",
    "id": "bpftbufSLLM8"
   },
   "source": [
    "## Questão 04\n",
    "\n",
    "Você foi contratado por uma empresa para construir um sistema que permite analisar automaticamente um conjunto de tweets e determinar se o mesmo é classificado como positivo ou negativo. Sabendo que você tem uma base de dados pré-classificada de tweets positivos e tweets negativos em português. Responda o que se pede.\n",
    "\n",
    "**a)** Proponha um conjunto de tarefas que você deve realizar para atender o objetivo para o qual você foi contratado. Deixe claro cada um dos procedimentos que serão tomados e porque usa-lo. Deixe claro como você pode maximizar as chances de de construir um sistema como boa acurácia dentre os modelos que foram disponibilizados no início desta prova."
   ]
  },
  {
   "cell_type": "markdown",
   "metadata": {
    "colab_type": "text",
    "id": "1HBn-equLLM9"
   },
   "source": [
    "*Insira sua resposta a partir daqui* "
   ]
  },
  {
   "cell_type": "markdown",
   "metadata": {
    "colab_type": "text",
    "id": "_nKCeWu2LLM-"
   },
   "source": [
    "------\n",
    "O código a seguir carrega a base de dados disponibilizada para executar os itens **b** e **c**. Leia com atenção a descrição completa da base. O seu entendimento é essencial para a realização das tarefas que seguem. "
   ]
  },
  {
   "cell_type": "code",
   "execution_count": 0,
   "metadata": {
    "colab": {},
    "colab_type": "code",
    "id": "gVgR91_DLLNA"
   },
   "outputs": [],
   "source": [
    "# Carrega a base de dados\n",
    "\n",
    "'''\n",
    "    A base de dados é composta por três componentes: \n",
    "    \n",
    "     sentiment_dataset['X']: matrix de instâncias e termos utilizado para treinamento do modelo. \n",
    "     sentiment_dataset['y']: vetor de classes que indica a classe real de cada uma das instâncias \n",
    "                             da base de treinamento. Na base, 0 é negativo e 1 é positivo. \n",
    "     sentiment_dataset['vector']: modelo de vetorização da base de dados original. Isso deve ser utilizado \n",
    "                                 na hora de analisar os novos dados como descrito a seguir.\n",
    "\n",
    "'''\n",
    "\n",
    "sentiment_dataset = joblib.load(\"sentimentdataset.pkl\")\n",
    "X = sentiment_dataset['X']\n",
    "y = sentiment_dataset['y']\n",
    "vector = sentiment_dataset['vector']"
   ]
  },
  {
   "cell_type": "markdown",
   "metadata": {
    "colab_type": "text",
    "id": "hXahxrEzLLNG"
   },
   "source": [
    "**b)** Baseado no que você descreveu no **item a**, implemente um passo a passo para a construação de um modelo que permite reconhecer testes. Implemente alguns métodos, modifique os parâmetros e apresente como resposta a acurácia do melhor modelo. "
   ]
  },
  {
   "cell_type": "code",
   "execution_count": 0,
   "metadata": {
    "colab": {},
    "colab_type": "code",
    "id": "sz9ayZUOLLNI"
   },
   "outputs": [],
   "source": []
  },
  {
   "cell_type": "markdown",
   "metadata": {
    "colab_type": "text",
    "id": "jhcDoqfuLLNK"
   },
   "source": [
    "**c)** Utilize o melhor modelo gerado no **item b** e use-o para analisar os textos a seguir. Para cada texto deve-se indicar a classe que o modelo classifica cada um. Na classificação, 1 é positivo e 0 é negativo. "
   ]
  },
  {
   "cell_type": "code",
   "execution_count": 0,
   "metadata": {
    "colab": {},
    "colab_type": "code",
    "id": "_az2Gy0CLLNK"
   },
   "outputs": [],
   "source": [
    "'''\n",
    "    Os textos a seguir devem ser classificados a partir do modelo que foi escolhido na questão anterior. Antes \n",
    "    de fazer a predição, deve-se gerar X_new_ que nada mais é do que sua base de teste. O código a seguir transforma\n",
    "    tal texto em uma matriz onde as linhas são as instâncias e as colunas as palavras que foram utilizadas na base\n",
    "    de treinamento. \n",
    "'''\n",
    "\n",
    "new_text = [\n",
    "    'eu realmente acho que os produtos da apple sao otimos :)', \n",
    "    'eu gosto de cantar <3', \n",
    "    'triste noticia',\n",
    "    'odeio esse produto :(',\n",
    "    'eu nao gosto da saga crepusculo'\n",
    "]\n",
    "\n",
    "X_new_ = vector.transform(new_text).toarray()"
   ]
  },
  {
   "cell_type": "code",
   "execution_count": 0,
   "metadata": {
    "colab": {},
    "colab_type": "code",
    "id": "v8DnxSLaLLNN"
   },
   "outputs": [],
   "source": []
  }
 ],
 "metadata": {
  "colab": {
   "collapsed_sections": [],
   "name": "Luiz Felipe Silva Santos - Atividade.ipynb",
   "provenance": [],
   "version": "0.3.2"
  },
  "kernelspec": {
   "display_name": "Python 3",
   "language": "python",
   "name": "python3"
  },
  "language_info": {
   "codemirror_mode": {
    "name": "ipython",
    "version": 3
   },
   "file_extension": ".py",
   "mimetype": "text/x-python",
   "name": "python",
   "nbconvert_exporter": "python",
   "pygments_lexer": "ipython3",
   "version": "3.7.0"
  }
 },
 "nbformat": 4,
 "nbformat_minor": 1
}
